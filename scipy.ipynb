{
 "cells": [
  {
   "cell_type": "code",
   "execution_count": 67,
   "id": "7db0d329-d689-459b-a6f3-662ad81f4f6e",
   "metadata": {},
   "outputs": [
    {
     "name": "stdout",
     "output_type": "stream",
     "text": [
      "0.001\n"
     ]
    }
   ],
   "source": [
    "from scipy import constants\n",
    "print(constants.gram)\n",
    "      "
   ]
  },
  {
   "cell_type": "code",
   "execution_count": 69,
   "id": "8a52ba9b-cb78-4ef4-8378-c790a8dc19b6",
   "metadata": {},
   "outputs": [
    {
     "name": "stdout",
     "output_type": "stream",
     "text": [
      "1000.0\n"
     ]
    }
   ],
   "source": [
    "from scipy import constants\n",
    "print(constants.kilo)"
   ]
  },
  {
   "cell_type": "code",
   "execution_count": 73,
   "id": "3ed41ec6-a22e-4c79-bb81-a1495ecbac9c",
   "metadata": {},
   "outputs": [
    {
     "name": "stdout",
     "output_type": "stream",
     "text": [
      "0.017453292519943295\n"
     ]
    }
   ],
   "source": [
    "from scipy import constants\n",
    "print(constants.degree)"
   ]
  },
  {
   "cell_type": "code",
   "execution_count": 75,
   "id": "dfea4757-46ef-4cdc-b2ca-75aab474c726",
   "metadata": {},
   "outputs": [
    {
     "name": "stdout",
     "output_type": "stream",
     "text": [
      "86400.0\n"
     ]
    }
   ],
   "source": [
    "from scipy import constants\n",
    "print(constants.day)"
   ]
  },
  {
   "cell_type": "code",
   "execution_count": 77,
   "id": "0b7d8032-2b7e-4b4b-8512-09eca7f422fc",
   "metadata": {},
   "outputs": [
    {
     "name": "stdout",
     "output_type": "stream",
     "text": [
      "604800.0\n"
     ]
    }
   ],
   "source": [
    "from scipy import constants\n",
    "print(constants.week)"
   ]
  },
  {
   "cell_type": "code",
   "execution_count": 79,
   "id": "dfade290-4dd4-4777-8c82-be94ad4c604d",
   "metadata": {},
   "outputs": [
    {
     "name": "stdout",
     "output_type": "stream",
     "text": [
      "4.84813681109536e-06\n"
     ]
    }
   ],
   "source": [
    "from scipy import constants\n",
    "print(constants.arcsec)"
   ]
  },
  {
   "cell_type": "code",
   "execution_count": null,
   "id": "b40fbd52-1d19-4398-86d6-6799aa7e2054",
   "metadata": {},
   "outputs": [],
   "source": []
  }
 ],
 "metadata": {
  "kernelspec": {
   "display_name": "Python 3 (ipykernel)",
   "language": "python",
   "name": "python3"
  },
  "language_info": {
   "codemirror_mode": {
    "name": "ipython",
    "version": 3
   },
   "file_extension": ".py",
   "mimetype": "text/x-python",
   "name": "python",
   "nbconvert_exporter": "python",
   "pygments_lexer": "ipython3",
   "version": "3.12.4"
  }
 },
 "nbformat": 4,
 "nbformat_minor": 5
}
